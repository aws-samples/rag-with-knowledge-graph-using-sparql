{
 "cells": [
  {
   "cell_type": "markdown",
   "id": "f60a83ad",
   "metadata": {},
   "source": [
    "# Retrieval Augemented Generation (RAG) with Knowledge Graph using SPARQL"
   ]
  },
  {
   "cell_type": "markdown",
   "id": "ce23daf4",
   "metadata": {},
   "source": [
    "# Retrieval Augmented Generation (RAG)\n",
    "\n",
    "**Retrieval Augmented Generation (RAG)** combines large language models (LLMs) with external knowledge sources such as vector data stores or knowledge graphs to improve response quality and informativeness.  Traditional LLMs can be limited by their training data as even though they are pretrained on large amounts of data, they are designed for generalization purposes and are not trained for extensive domain specific knowledge. RAG addresses this by retrieving relevant information (passages, facts) from external knowledge sources to augment the input for the LLM to return domain specific responses. This allows LLMs to generate more comprehensive and contextually aware responses in tasks like question answering, summarization and text generation. "
   ]
  },
  {
   "cell_type": "markdown",
   "id": "06268810",
   "metadata": {},
   "source": [
    "## Why RAG with Knowledge Graph?\n",
    "\n",
    "While vector databases are commonly used as external knowledge sources for RAG architectures, knowledge graphs offer distinct advantages in specific scenarios. Let's delve into when a knowledge graph might be a better fit. \n",
    "\n",
    "- **Structured Knowledge Representation**: Knowledge graphs represent information in a structured way, using entities, relationships, and properties. This structure enables more precise and interpretable representation of knowledge, which is particularly useful for domains with complex and interconnected concepts, such as healthcare, finance, or scientific domains.\n",
    "- **Reasoning and Inference**: Knowledge graphs allow for reasoning and inference over the represented knowledge due to their capability of understanding intracies between different relationships in the data i.e. *Product* and *Customer*. This capability enables systems to draw logical conclusions, uncover implicit relationships, and answer complex queries that require combining multiple pieces of information. This paves the way for powerful recommendation systems that can truly personalize user experiences. Knowledge Vector databases, on the other hand, are primarily designed for similarity-based retrieval and lack this reasoning capability.\n",
    "- **Multi-hop Question Answering**: Knowledge graphs excel at answering multi-hop questions, where the answer requires traversing multiple relationships or combining information from different parts of the knowledge base. This is particularly useful in domains with intricate relationships where understanding the connections between entities is crucial. For instance, in the healthcare domain, responding to a query like \"What medications should be avoided for patients with a specific genetic mutation and a certain comorbidity?\" would require integrating insights from different sections of the knowledge graph. \n",
    "- **Explainability and Provenance**: Knowledge graphs provide explainability by revealing the reasoning path and provenance of the information used to generate an answer. This transparency is valuable in applications where interpretability and traceability are essential, such as decision support systems or regulatory compliance scenarios.\n",
    "- **Domain-specific Knowledge Integration**: Knowledge graphs can effectively integrate and represent domain-specific knowledge from various sources, such as ontologies, taxonomies, or expert-curated knowledge bases. This capability is advantageous in domains with well-established domain models or when incorporating specialized knowledge is necessary.\n",
    "\n",
    "While vector databases are efficient for similarity-based retrieval and can work well in certain domains, knowledge graphs offer advantages in representing complex, structured knowledge, enabling reasoning and inference, and providing explainability and provenance. Therefore, RAG with knowledge graphs is particularly suitable for domains with intricate relationships, multi-hop question answering requirements, or where interpretability and integration of domain-specific knowledge are crucial."
   ]
  },
  {
   "cell_type": "markdown",
   "id": "4141f970",
   "metadata": {},
   "source": [
    "# Architecture\n",
    "\n",
    "We will build the following RAG with Knowledge Graph architecture in this notebook which leverages a Large Language Model (LLM) from Amazon Bedrock and a knowledge graph stored in Amazon Neptune containing data from the Internet Movie Database (IMDb). IMDb is an user-contributed online database that provides comprehensive information about movies, TV shows, and other entertainment media. \n",
    "\n",
    "While LLMs are trained on massive datasets, they often struggle with specific industry knowledge. This RAG architecture addresses this by allowing our LLM to access and leverage data from IMDb, enabling it to provide more informative and entertainment-focused responses.\n",
    "\n",
    "Architecture has the following components:\n",
    "- **Amazon S3**: Object store for Resource Description Framework (RDF) formatted IMDb dataset.\n",
    "- **Amazon Neptune**: Graph database service ingests IMDb dataset from S3 bucket to create a Knowledge Graph.\n",
    "- **Amazon Bedrock**: LLM hosting service which calls LLM to query Knowledge Graph to retrieve additonal context for response augmentation. \n",
    "\n",
    "![Knowledge Graph RAG Architecture](static/knowledge-graph-rag-arch.png)\n"
   ]
  },
  {
   "cell_type": "markdown",
   "id": "880a10cd",
   "metadata": {},
   "source": [
    "# Fundamental Concepts\n",
    "\n",
    "To ensure a deeper understanding and maximize your learning from this exercise, let's review key foundational concepts explored in this notebook. Feel free to skip this section if you already have a solid understanding of Graph Database and Knowledge Graph concepts."
   ]
  },
  {
   "cell_type": "markdown",
   "id": "33ca3d1f",
   "metadata": {},
   "source": [
    "## Graph Database\n",
    "\n",
    "A **graph database** is a systematic collection of data that emphasizes the relationships between the different data entities. The NoSQL database uses mathematical graph theory to show data connections which makes it easier to model and mange higly connected data. Unlike relational databases, which store data in rigid table structures, graph databases store data as a network of entities and relationships. Graph databases are purpose-built to store and navigate relationships. As a result, these databases often provide better performance and flexibility as they are more suited for modeling real-world scenarios.\n",
    "\n",
    "Graph databases offer optimal performance for the following **use cases**:\n",
    "- **Fraud detection**\n",
    "- **Social Media Applications**\n",
    "- **Recommendation Engines**\n",
    "- **Route Optimization**\n",
    "- **Knowledge Management**\n",
    "- **Pattern Discovery**"
   ]
  },
  {
   "cell_type": "markdown",
   "id": "0dfc950d",
   "metadata": {},
   "source": [
    "## Knowledge Graph\n",
    "\n",
    "A **Knowledge graph** is built via graph database by linking entities and their relationships, often through data extraction from various sources and manual curation by domain experts. Knowledge graph provides a flexible way to structure and connect information, making it easier to understand and access for everyone in an organization. Compared to traditional relational databases, graph databases are better suited for modeling complex real-world data with its inherent diversity. Traditional relational database focuses on storing data points while a knowledge graph capture the relationships and meaning between them. This \"semantic\" approach allows us to model real-world complexities and unlock hidden connections.  Furthermore, a knowledge graph can integrate information from various sources, structured or unstructured, creating a holistic view. This empowers organizations to not only access information easily to enable powerful applications but also leverage automated reasoning to uncover valuable insights they might have otherwise missed.\n",
    "\n",
    "There are two main types of knowledge graph models which are **Property Graph** and **Resource Description Framework (RDF) Graph**. Here is a brief summary describing each of those graph models.\n",
    "\n",
    "- **Property Graph**\n",
    "    - Focuses on **entities (nodes)** and the **relationships (edges)** between them. Nodes and edges can have properties associated with them, allowing for rich descriptions.\n",
    "    - Queried by languages like **OpenCypher** or **Gremlin**\n",
    "    - Known for querying simplicity within single knowledge source\n",
    "    \n",
    "- **RDF Graph**\n",
    "    - Represents information as **entities (resources)**, **properties (attributes)**, and **relationships**. Entities and properties are identified using **URIs (Uniform Resource Identifiers)**, ensuring a standardized format.\n",
    "    - Queried by **SPARQL** language. \n",
    "    - Known for standardization across global knowledge sources. \n",
    "\n",
    "For the purposes of this notebook, we will focus on RDF graph as it provides the standardization required for enterprise scalability where data integration from multiple sources is necessary.    "
   ]
  },
  {
   "cell_type": "markdown",
   "id": "d87ec171",
   "metadata": {},
   "source": [
    "## Resource Description Framework (RDF) Data Model\n",
    "\n",
    "![RDF Data Model](static/rdf-data-model.png)\n",
    "\n",
    "The **Resource Description Framework (RDF)** is a standard data model defined by the **World Wide Web Consortium (W3C)** for representing information on the web. RDF graphs are created from this data model. It is based on the idea of making statements about resources in the form of subject-predicate-object expressions, known as triples. Here's a brief explanation:\n",
    "\n",
    "- **Subject**: Represents the entity or resource you're describing. This entity is identified using a Uniform Resource Identifier (URI), which acts like a unique web address for the resource. Examples of URIs include web page URLs or identifiers created specifically for entities within an RDF graph.\n",
    "- **Predicate**: Defines the relationship between the subject and the object. It's still a concept or property but also identified using a URI. These URIs act like a vocabulary of terms to describe the relationships precisely.\n",
    "- **Object**: Provides the value of the property/attribute or relationship defined by the predicate. This can be:\n",
    "    - Another resource identified by a URI (e.g., connecting to another entity in the graph).\n",
    "    - A literal value (like a number or text string) enclosed in quotes (e.g., \"Paris\").\n",
    "    - Another RDF statement (for very complex relationships).\n",
    "\n",
    "For example, consider the statement: *\"Brussels is a city in Belgium\"*. In RDF, this would be represented as:\n",
    "\n",
    "```text\n",
    "  <http://example.org/brussels> <http://www.w3.org/1999/02/22-rdf-syntax-ns#type> <http://schema.org/City> .\n",
    "  <http://example.org/brussels> <http://dbpedia.org/property/location> <http://example.org/belgium> .\n",
    "```\n",
    "\n",
    "In this example:\n",
    "- The first line states that the resource **(subject)** **<<http://example.org/brussels>>** (identified by a URI) has the type **(predicate)** City **(object)** **<<http://schema.org/City>>** (another URI defining the type).\n",
    "- The second line states that Brussels **(subject)** **<<http://example.org/brussels>>** location **(predicate)** is in Belgium **(object)** **<<http://example.org/Belgium>>** (another resource with a URI).\n",
    "\n",
    "\n",
    "\n",
    "The URI format provides the following benefits:\n",
    "- **Standardization**: Ensures everyone uses the same identifiers for resources, promoting interoperability and data exchange across different systems.\n",
    "- **Disambiguation**: Uniquely identifies resources, avoiding confusion between entities with the same name.\n",
    "- **Machine-Readability**: Allows machines to understand the meaning and context of the data by linking to standard vocabularies or external information sources.\n",
    "\n",
    "In essence, RDF uses **URIs** within its **Subject-Predicate-Object** structure to create a **standardized** and **machine-understandable** way to represent information. This lets RDF provide a flexible and extensible way to represent and link data on the web, enabling the creation of the **Semantic Web** and facilitating **data integration** and **interoperability**."
   ]
  },
  {
   "cell_type": "markdown",
   "id": "402bf7e7",
   "metadata": {},
   "source": [
    "## SPARQL\n",
    "\n",
    "**SPARQL (SPARQL Protocol and RDF Query Language)** is a language specifically designed to interact with data stored in the **RDF** format.  RDF graphs are giant webs of information where entities are connected by relationships. SPARQL acts like a powerful search engine for these webs, allowing you to ask questions and retrieve specific information. Unlike SQL used for relational databases, SPARQL focuses on the relationships between entities.  You can use it to find things like all cities within a country, people with connections to each other, all movies starring a certain actor, or specific details about an entity within the RDF graph. This makes SPARQL a valuable tool for tasks like information retrieval, data exploration, and even uncovering hidden connections within the linked data of an RDF graph.\n",
    "\n"
   ]
  },
  {
   "cell_type": "markdown",
   "id": "db4afee6",
   "metadata": {},
   "source": [
    "# Environment Setup\n",
    "\n",
    "## Upload to S3 Bucket\n",
    "1. Follow these instructions to **upload** this RDF formatted [IMDb Dataset](/imdb.ttl.gz) file to a **S3 Bucket** - https://docs.aws.amazon.com/AmazonS3/latest/userguide/upload-objects.html  \n",
    "\n",
    "## Request Claude Sonnet Model Access\n",
    "1. Follow these instructions to **request access** to **Claude 3 Sonnet** - https://docs.aws.amazon.com/bedrock/latest/userguide/model-access.html  \n",
    "\n",
    "## Deploy CloudFormation Stack\n",
    "\n",
    "1. In local terminal, ensure **awscli** is configured with credentials and navigate to **rag-with-knowledge-graph** directory.  \n",
    "\n",
    "\n",
    "2. Enter parameter values in provided **parameters.json** file\n",
    "\n",
    "\n",
    "2. Run the following command to deploy the cloud formation stack to create Neptune Notebook Instance from the provied **neptune.yaml** file along with **parameters.json** file edited in previous step:\n",
    "\n",
    "```aws cloudformation create-stack --stack-name neptune-stack --template-body file://neptune.yaml --capabilities CAPABILITY_IAM --parameters file://parameters.json``` \n",
    "\n",
    "\n",
    "3. Search for **Neptune** in the AWS Console and click on it  \n",
    "<img src=\"static/neptune_console.png\" width=\"600\">\n",
    "\n",
    "\n",
    "5. Click **Notebooks**  \n",
    "<img src=\"static/neptune_notebook.png\" width=\"600\"> \n",
    "\n",
    "\n",
    "6. Click the radio button of the notebook, which should have the name **aws-neptune-{SageMakerNotebookName}**. **SageMakerNotebookName** is a parameter populated in the parameters.json file and used in the CloudFormation template.  \n",
    "Example: <img src=\"static/click_notebook.png\" width=\"600\">  \n",
    "\n",
    "7. Click **Actions** > 'Open JupyterLab'  \n",
    "<img src=\"static/open_jupyter_lab.png\" width=\"600\">  \n",
    "\n",
    "8. Click the **Upload** icon, and upload this **rag-with-knwoledge-graph.ipynb** notebook file, or drag and drop it in Jupyter Lab  \n",
    "Example to upload file: <img src=\"static/jupyterlab_upload.png\" width=\"600\">  \n",
    "\n",
    "9. Click **Upload** icon, and upload the image files in the **images/** directory. **Do not upload the folder**. Jupyter Lab does not support uploading folders. \n",
    "\n",
    "10. Skip to **Load Data Into Neptune** section. "
   ]
  },
  {
   "cell_type": "markdown",
   "id": "bc3d6e10",
   "metadata": {},
   "source": [
    "## Load Data Into Neptune\n",
    "\n",
    "We will load our RDF formatted IMDB dataset uploaded to S3 Bucket during previous section into our Neptune database."
   ]
  },
  {
   "cell_type": "code",
   "execution_count": null,
   "id": "dcd3698d",
   "metadata": {},
   "outputs": [
    {
     "data": {
      "application/vnd.jupyter.widget-view+json": {
       "model_id": "",
       "version_major": 2,
       "version_minor": 0
      },
      "text/plain": [
       "HBox(children=(Label(value='Source:', layout=Layout(display='flex', justify_content='flex-end', width='16%')),…"
      ]
     },
     "metadata": {},
     "output_type": "display_data"
    },
    {
     "data": {
      "application/vnd.jupyter.widget-view+json": {
       "model_id": "",
       "version_major": 2,
       "version_minor": 0
      },
      "text/plain": [
       "HBox(children=(Label(value='Format:', layout=Layout(display='flex', justify_content='flex-end', width='16%')),…"
      ]
     },
     "metadata": {},
     "output_type": "display_data"
    },
    {
     "data": {
      "application/vnd.jupyter.widget-view+json": {
       "model_id": "",
       "version_major": 2,
       "version_minor": 0
      },
      "text/plain": [
       "HBox(children=(Label(value='Region:', layout=Layout(display='flex', justify_content='flex-end', width='16%')),…"
      ]
     },
     "metadata": {},
     "output_type": "display_data"
    },
    {
     "data": {
      "application/vnd.jupyter.widget-view+json": {
       "model_id": "",
       "version_major": 2,
       "version_minor": 0
      },
      "text/plain": [
       "HBox(children=(Label(value='Fail on Error:', layout=Layout(display='flex', justify_content='flex-end', width='…"
      ]
     },
     "metadata": {},
     "output_type": "display_data"
    },
    {
     "data": {
      "application/vnd.jupyter.widget-view+json": {
       "model_id": "",
       "version_major": 2,
       "version_minor": 0
      },
      "text/plain": [
       "HBox(children=(Label(value='Load ARN:', layout=Layout(display='flex', justify_content='flex-end', width='16%')…"
      ]
     },
     "metadata": {},
     "output_type": "display_data"
    },
    {
     "data": {
      "application/vnd.jupyter.widget-view+json": {
       "model_id": "",
       "version_major": 2,
       "version_minor": 0
      },
      "text/plain": [
       "HBox(children=(Label(value='Mode:', layout=Layout(display='flex', justify_content='flex-end', width='16%')), D…"
      ]
     },
     "metadata": {},
     "output_type": "display_data"
    },
    {
     "data": {
      "application/vnd.jupyter.widget-view+json": {
       "model_id": "",
       "version_major": 2,
       "version_minor": 0
      },
      "text/plain": [
       "HBox(children=(Label(value='Parallelism:', layout=Layout(display='flex', justify_content='flex-end', width='16…"
      ]
     },
     "metadata": {},
     "output_type": "display_data"
    },
    {
     "data": {
      "application/vnd.jupyter.widget-view+json": {
       "model_id": "",
       "version_major": 2,
       "version_minor": 0
      },
      "text/plain": [
       "HBox(children=(Label(value='Update Single Cardinality:', layout=Layout(display='flex', justify_content='flex-e…"
      ]
     },
     "metadata": {},
     "output_type": "display_data"
    },
    {
     "data": {
      "application/vnd.jupyter.widget-view+json": {
       "model_id": "",
       "version_major": 2,
       "version_minor": 0
      },
      "text/plain": [
       "HBox(children=(Label(value='Queue Request:', layout=Layout(display='flex', justify_content='flex-end', width='…"
      ]
     },
     "metadata": {},
     "output_type": "display_data"
    },
    {
     "data": {
      "application/vnd.jupyter.widget-view+json": {
       "model_id": "",
       "version_major": 2,
       "version_minor": 0
      },
      "text/plain": [
       "HBox(children=(Label(value='Dependencies:', layout=Layout(display='flex', justify_content='flex-end', width='1…"
      ]
     },
     "metadata": {},
     "output_type": "display_data"
    },
    {
     "data": {
      "application/vnd.jupyter.widget-view+json": {
       "model_id": "",
       "version_major": 2,
       "version_minor": 0
      },
      "text/plain": [
       "HBox(children=(Label(value='User Provided Edge Ids:', layout=Layout(display='none', justify_content='flex-end'…"
      ]
     },
     "metadata": {},
     "output_type": "display_data"
    },
    {
     "data": {
      "application/vnd.jupyter.widget-view+json": {
       "model_id": "",
       "version_major": 2,
       "version_minor": 0
      },
      "text/plain": [
       "HBox(children=(Label(value='Allow Empty Strings:', layout=Layout(display='none', justify_content='flex-end', w…"
      ]
     },
     "metadata": {},
     "output_type": "display_data"
    },
    {
     "data": {
      "application/vnd.jupyter.widget-view+json": {
       "model_id": "",
       "version_major": 2,
       "version_minor": 0
      },
      "text/plain": [
       "HBox(children=(Label(value='Named Graph URI:', layout=Layout(display='flex', justify_content='flex-end', width…"
      ]
     },
     "metadata": {},
     "output_type": "display_data"
    },
    {
     "data": {
      "application/vnd.jupyter.widget-view+json": {
       "model_id": "",
       "version_major": 2,
       "version_minor": 0
      },
      "text/plain": [
       "HBox(children=(Label(value='Base URI:', layout=Layout(display='flex', justify_content='flex-end', width='16%')…"
      ]
     },
     "metadata": {},
     "output_type": "display_data"
    },
    {
     "data": {
      "application/vnd.jupyter.widget-view+json": {
       "model_id": "",
       "version_major": 2,
       "version_minor": 0
      },
      "text/plain": [
       "HBox(children=(Label(value='Poll Load Status:', layout=Layout(display='flex', justify_content='flex-end', widt…"
      ]
     },
     "metadata": {},
     "output_type": "display_data"
    },
    {
     "data": {
      "application/vnd.jupyter.widget-view+json": {
       "model_id": "",
       "version_major": 2,
       "version_minor": 0
      },
      "text/plain": [
       "Button(description='Submit', style=ButtonStyle())"
      ]
     },
     "metadata": {},
     "output_type": "display_data"
    },
    {
     "data": {
      "application/vnd.jupyter.widget-view+json": {
       "model_id": "c238aa6cd7844ea78f8154877e45b13b",
       "version_major": 2,
       "version_minor": 0
      },
      "text/plain": [
       "Output()"
      ]
     },
     "metadata": {},
     "output_type": "display_data"
    }
   ],
   "source": [
    "# Load dataset from S3 into Neptune\n",
    "\n",
    "%load -s s3://{S3_BUCKET}/ -f turtle -p OVERSUBSCRIBE -l {IAM_ROLE} --store-to loadres --run"
   ]
  },
  {
   "cell_type": "markdown",
   "id": "72851638",
   "metadata": {},
   "source": [
    "# Querying with SPARQL\n",
    "\n",
    "In this section, we will run SPARQL queries to get visibility into our knowledge graph created from IMDb data and to get an overall sense of how to query RDF data."
   ]
  },
  {
   "cell_type": "markdown",
   "id": "627762eb",
   "metadata": {},
   "source": [
    "### Let's look at the structure of our Knowledge Graph\n",
    "\n",
    "From this query, we can see that our knowledge graph is structured in a way where resources, attributes, and relationships are mapped to IMDb website URIs. If you click on the graph tab of the results, you can see multiple graphs thats show the relationships related to **productions** in the data such as *cast-director*, *cast-wrtier*, *cast-actor*, *cast-actress*, *cast-editor*, etc. \n",
    "\n",
    "If you'd like to explore further, you can:\n",
    "1. Pick a **graph**\n",
    "2. Click the subject **production** node\n",
    "3. Click **hamburger menu** icon on menu bar located at the top right corner\n",
    "\n",
    "You will now see all the details tied to the subject **production** resource such as its name which is defined as *primaryTitle* in the data , *averageRating*, *runTimeMinutes*, *startYear*, *numberOfVotes*, etc. "
   ]
  },
  {
   "cell_type": "code",
   "execution_count": null,
   "id": "fe579654",
   "metadata": {},
   "outputs": [
    {
     "data": {
      "application/vnd.jupyter.widget-view+json": {
       "model_id": "64eac5559a614a10aaf17c71864e3419",
       "version_major": 2,
       "version_minor": 0
      },
      "text/plain": [
       "Tab(children=(Output(layout=Layout(max_height='600px', max_width='940px', overflow='scroll')), Force(network=<…"
      ]
     },
     "metadata": {},
     "output_type": "display_data"
    }
   ],
   "source": [
    "%%sparql\n",
    "\n",
    "SELECT ?subject ?predicate ?object\n",
    "WHERE {\n",
    "    ?subject ?predicate ?object .\n",
    "}\n",
    "LIMIT 1000"
   ]
  },
  {
   "cell_type": "markdown",
   "id": "07d3f2af",
   "metadata": {},
   "source": [
    "### Let's look at the different Resource Types\n",
    "\n",
    "World Wide Web Consortium (W3C) defines a RDF syntax which we can access through *<http://www.w3.org/1999/02/22-rdf-syntax-ns#>* URI. The RDF syntax URI contains information about the different resource types at the *<http://www.w3.org/1999/02/22-rdf-syntax-ns#/type>* sub URI. We will use the RDF syntax URI as prefix to view the different resource types in the data to enable writing a simple query."
   ]
  },
  {
   "cell_type": "code",
   "execution_count": null,
   "id": "1e9e09da",
   "metadata": {},
   "outputs": [
    {
     "data": {
      "application/vnd.jupyter.widget-view+json": {
       "model_id": "27cb0eb6cf274b58ac2facbd8b803136",
       "version_major": 2,
       "version_minor": 0
      },
      "text/plain": [
       "Tab(children=(Output(layout=Layout(max_height='600px', max_width='940px', overflow='scroll')), Output(layout=L…"
      ]
     },
     "metadata": {},
     "output_type": "display_data"
    }
   ],
   "source": [
    "%%sparql\n",
    "\n",
    "PREFIX rdf: <http://www.w3.org/1999/02/22-rdf-syntax-ns#>\n",
    "\n",
    "SELECT DISTINCT ?type\n",
    "\n",
    "WHERE \n",
    "{ \n",
    "    ?s rdf:type ?type \n",
    "}"
   ]
  },
  {
   "cell_type": "markdown",
   "id": "04edc686",
   "metadata": {},
   "source": [
    "### Let's look at the different relationships in the data"
   ]
  },
  {
   "cell_type": "code",
   "execution_count": null,
   "id": "5fbf981d",
   "metadata": {},
   "outputs": [
    {
     "data": {
      "application/vnd.jupyter.widget-view+json": {
       "model_id": "0c53ce66b7fb4d02922733e5c6cdc60f",
       "version_major": 2,
       "version_minor": 0
      },
      "text/plain": [
       "Tab(children=(Output(layout=Layout(max_height='600px', max_width='940px', overflow='scroll')), Output(layout=L…"
      ]
     },
     "metadata": {},
     "output_type": "display_data"
    }
   ],
   "source": [
    "%%sparql\n",
    "\n",
    "SELECT DISTINCT ?predicate\n",
    "\n",
    "WHERE \n",
    "{ \n",
    "    ?subject ?predicate ?object \n",
    "}"
   ]
  },
  {
   "cell_type": "markdown",
   "id": "d44e35dc",
   "metadata": {},
   "source": [
    "### Using prefixes.\n",
    "\n",
    "As you might have noticed when we queried for different resource types, we used a prefix for simplicity reasons for writing queries. Going forward, we will use prefixes in all of our queries so we don't have to keep writing i.e. *https://www.imdb.com/* everytime we want to query a sub URI on the IMDb website. "
   ]
  },
  {
   "cell_type": "markdown",
   "id": "abba093b",
   "metadata": {},
   "source": [
    "### Let's query for movies that have \"Inception\" as their primary title."
   ]
  },
  {
   "cell_type": "code",
   "execution_count": null,
   "id": "cdd99bb8",
   "metadata": {},
   "outputs": [
    {
     "data": {
      "application/vnd.jupyter.widget-view+json": {
       "model_id": "106d54cf157549788430f7c8b67b733d",
       "version_major": 2,
       "version_minor": 0
      },
      "text/plain": [
       "Tab(children=(Output(layout=Layout(max_height='600px', max_width='940px', overflow='scroll')), Output(layout=L…"
      ]
     },
     "metadata": {},
     "output_type": "display_data"
    }
   ],
   "source": [
    "%%sparql\n",
    "\n",
    "PREFIX imdb: <https://www.imdb.com/>\n",
    "\n",
    "SELECT ?movie\n",
    "WHERE \n",
    "{\n",
    "    ?movie a imdb:movie ;\n",
    "           imdb:primaryTitle \"Inception\" .\n",
    "} "
   ]
  },
  {
   "cell_type": "markdown",
   "id": "c6735b64",
   "metadata": {},
   "source": [
    "### Let's query for movies that have \"Inception\" as their primary title and retrieve all its relationships (predicates) and respective attribute values."
   ]
  },
  {
   "cell_type": "code",
   "execution_count": null,
   "id": "b36b39f9",
   "metadata": {},
   "outputs": [
    {
     "data": {
      "application/vnd.jupyter.widget-view+json": {
       "model_id": "58b4f76966454556a91b30bfda194d3a",
       "version_major": 2,
       "version_minor": 0
      },
      "text/plain": [
       "Tab(children=(Output(layout=Layout(max_height='600px', max_width='940px', overflow='scroll')), Output(layout=L…"
      ]
     },
     "metadata": {},
     "output_type": "display_data"
    }
   ],
   "source": [
    "%%sparql\n",
    "\n",
    "PREFIX imdb: <https://www.imdb.com/>\n",
    "\n",
    "SELECT ?movie ?predicate ?value \n",
    "\n",
    "WHERE \n",
    "{\n",
    "    ?movie a imdb:movie ; \n",
    "           imdb:primaryTitle \"Inception\" ;\n",
    "           ?predicate ?value .\n",
    "} "
   ]
  },
  {
   "cell_type": "markdown",
   "id": "0fd34a89",
   "metadata": {},
   "source": [
    "### Graph traversal queries\n",
    "\n",
    "We want to find the names of all the movies starring Tom Hanks. \n",
    "\n",
    "How are we going to do that in one query? We will have to traverse through resources and their relationships in the graph.\n",
    "\n",
    "First, let's retrieve the resource URI of Tom Hanks in the database. This information can be used in the next query to retrieve the resource URIs of movies Tom Hanks has starred in. "
   ]
  },
  {
   "cell_type": "code",
   "execution_count": null,
   "id": "805681c0",
   "metadata": {},
   "outputs": [
    {
     "data": {
      "application/vnd.jupyter.widget-view+json": {
       "model_id": "300e2a0e70fa4b3aa308ab084ef304fa",
       "version_major": 2,
       "version_minor": 0
      },
      "text/plain": [
       "Tab(children=(Output(layout=Layout(max_height='600px', max_width='940px', overflow='scroll')), Output(layout=L…"
      ]
     },
     "metadata": {},
     "output_type": "display_data"
    }
   ],
   "source": [
    "%%sparql\n",
    "\n",
    "PREFIX imdb: <https://www.imdb.com/>\n",
    "\n",
    "SELECT ?artist\n",
    "WHERE \n",
    "{\n",
    "    ?artist imdb:primaryName \"Tom Hanks\"\n",
    "}"
   ]
  },
  {
   "cell_type": "markdown",
   "id": "7e632720",
   "metadata": {},
   "source": [
    "Next, let's retrieve the resource URIs of the movies Tom Hanks has starred in. This information will be used in the next query to retrieve the *Primary Title* attribute values for each movie. "
   ]
  },
  {
   "cell_type": "code",
   "execution_count": null,
   "id": "5ced6c2e",
   "metadata": {},
   "outputs": [
    {
     "data": {
      "application/vnd.jupyter.widget-view+json": {
       "model_id": "27452fdfad2e47e688a5cbb40a58de37",
       "version_major": 2,
       "version_minor": 0
      },
      "text/plain": [
       "Tab(children=(Output(layout=Layout(max_height='600px', max_width='940px', overflow='scroll')), Output(layout=L…"
      ]
     },
     "metadata": {},
     "output_type": "display_data"
    }
   ],
   "source": [
    "%%sparql\n",
    "\n",
    "PREFIX rdf: <http://www.w3.org/1999/02/22-rdf-syntax-ns#>\n",
    "PREFIX imdb: <https://www.imdb.com/>\n",
    "\n",
    "SELECT ?movie\n",
    "WHERE \n",
    "{\n",
    "    ?movie a imdb:movie ;\n",
    "           imdb:cast-actor imdb:nm0000158 .\n",
    "}"
   ]
  },
  {
   "cell_type": "markdown",
   "id": "0e542deb",
   "metadata": {},
   "source": [
    "Now, let's retrieve the *Primary Title* attribute values for each movie. This information gives us the names of all the movies starring Tom Hanks."
   ]
  },
  {
   "cell_type": "code",
   "execution_count": null,
   "id": "2fe0d16f",
   "metadata": {},
   "outputs": [
    {
     "data": {
      "application/vnd.jupyter.widget-view+json": {
       "model_id": "e20b35a0cc114c728ca824649f301ef0",
       "version_major": 2,
       "version_minor": 0
      },
      "text/plain": [
       "Tab(children=(Output(layout=Layout(max_height='600px', max_width='940px', overflow='scroll')), Output(layout=L…"
      ]
     },
     "metadata": {},
     "output_type": "display_data"
    }
   ],
   "source": [
    "%%sparql\n",
    "\n",
    "PREFIX rdf: <http://www.w3.org/1999/02/22-rdf-syntax-ns#>\n",
    "PREFIX imdb: <https://www.imdb.com/>\n",
    "\n",
    "SELECT ?title\n",
    "WHERE \n",
    "{\n",
    "    ?movie a imdb:movie ;\n",
    "           imdb:cast-actor imdb:nm0000158 ;\n",
    "           imdb:primaryTitle ?title .\n",
    "}"
   ]
  },
  {
   "cell_type": "markdown",
   "id": "84d9b67b",
   "metadata": {},
   "source": [
    "Finally, let's put all of this together in a single query to retrieve the names of all the movies starring Tom Hanks. This example shows graph traversal through relationships between resources."
   ]
  },
  {
   "cell_type": "code",
   "execution_count": null,
   "id": "bc3f38ea",
   "metadata": {},
   "outputs": [
    {
     "data": {
      "application/vnd.jupyter.widget-view+json": {
       "model_id": "37f8302292de4addb1148805ffc89ada",
       "version_major": 2,
       "version_minor": 0
      },
      "text/plain": [
       "Tab(children=(Output(layout=Layout(max_height='600px', max_width='940px', overflow='scroll')), Output(layout=L…"
      ]
     },
     "metadata": {},
     "output_type": "display_data"
    }
   ],
   "source": [
    "%%sparql\n",
    "\n",
    "PREFIX imdb: <https://www.imdb.com/>\n",
    "\n",
    "SELECT ?title\n",
    "WHERE \n",
    "{\n",
    "    ?artist imdb:primaryName \"Tom Hanks\" .\n",
    "    ?movie a imdb:movie ;\n",
    "           imdb:cast-actor ?artist ;\n",
    "           imdb:primaryTitle ?title .\n",
    "}"
   ]
  },
  {
   "cell_type": "markdown",
   "id": "d0af4356",
   "metadata": {},
   "source": [
    "### Add some more complexity\n",
    "\n",
    "In this query, let's retrieve the names of movies where Tom Hanks and Steven Spielberg have collaborated as actor and director respectively."
   ]
  },
  {
   "cell_type": "code",
   "execution_count": null,
   "id": "d74c4c00",
   "metadata": {},
   "outputs": [
    {
     "data": {
      "application/vnd.jupyter.widget-view+json": {
       "model_id": "c57b6fd246e8456890b2bfe8bf1890da",
       "version_major": 2,
       "version_minor": 0
      },
      "text/plain": [
       "Tab(children=(Output(layout=Layout(max_height='600px', max_width='940px', overflow='scroll')), Output(layout=L…"
      ]
     },
     "metadata": {},
     "output_type": "display_data"
    }
   ],
   "source": [
    "%%sparql\n",
    "\n",
    "PREFIX imdb: <https://www.imdb.com/>\n",
    "\n",
    "SELECT DISTINCT ?movieTitle \n",
    "WHERE {\n",
    "    ?movie a imdb:movie ;\n",
    "           imdb:directedBy ?steveSpiDir ;\n",
    "           imdb:cast-actor ?tomHanksAct .\n",
    "    \n",
    "    ?steveSpiDir imdb:primaryName \"Steven Spielberg\" .\n",
    "    ?tomHanksAct imdb:primaryName \"Tom Hanks\" .\n",
    "    ?movie imdb:primaryTitle ?movieTitle .\n",
    "}"
   ]
  },
  {
   "cell_type": "markdown",
   "id": "9ce1cce8",
   "metadata": {},
   "source": [
    "### Construct new triples from data to show relationships between directors and the movies they directed\n",
    "\n",
    "The **CONSTRUCT** query form is particularly useful when you need to generate or transform RDF data programmatically or when integrating data from multiple sources or schemas. It provides a flexible and powerful way to manipulate and restructure knowledge graph data based on your specific requirements.\n",
    "\n",
    "This query returns a graph for each director linking them to all the movies they've directed. \n",
    "\n",
    "If you look at the graph tab of the results and observe each graph, you can see the following:\n",
    "- **Subject node** which contains **Resource URI** of **director**. By clicking the **hamburger icon**, you can also see the details of the subject node which displays the **directors name**. \n",
    "- **Object node** which contains **Resource URI** of **movie**. By clicking the **hamburger icon**, you can also see the details of the object node which displays the **movie title**.\n",
    "- **Predicate** arrows with value **directed by** unilaterally flowing from Object node to Subject node which defines the **relationship** between them as *movie is directed by director*. "
   ]
  },
  {
   "cell_type": "code",
   "execution_count": null,
   "id": "691cc0e3",
   "metadata": {},
   "outputs": [
    {
     "data": {
      "application/vnd.jupyter.widget-view+json": {
       "model_id": "ade9f1ab58cf4b57bc534ae4e03b7aa5",
       "version_major": 2,
       "version_minor": 0
      },
      "text/plain": [
       "Tab(children=(Output(layout=Layout(max_height='600px', max_width='940px', overflow='scroll')), Force(network=<…"
      ]
     },
     "metadata": {},
     "output_type": "display_data"
    }
   ],
   "source": [
    "%%sparql\n",
    "\n",
    "PREFIX imdb: <https://www.imdb.com/>\n",
    "\n",
    "CONSTRUCT {\n",
    "  ?movie imdb:primaryTitle ?title .\n",
    "  ?director imdb:primaryName ?directorName .\n",
    "  ?movie imdb:directedBy ?director .\n",
    "} \n",
    "WHERE {\n",
    "  ?movie a imdb:movie ;\n",
    "         imdb:primaryTitle ?title .\n",
    "  ?director a imdb:director ;\n",
    "            imdb:primaryName ?directorName .\n",
    "  ?movie imdb:directedBy ?director .\n",
    "}\n",
    "LIMIT 100"
   ]
  },
  {
   "cell_type": "markdown",
   "id": "03012ddf",
   "metadata": {},
   "source": [
    "### Recommendation Queries\n",
    "\n",
    "Let's utilize the graph to give us some recommendations. We will start with asking the knowledge graph to recommend us **5 movies** belonging to the **Drama** genre. "
   ]
  },
  {
   "cell_type": "code",
   "execution_count": null,
   "id": "87066d39",
   "metadata": {},
   "outputs": [
    {
     "data": {
      "application/vnd.jupyter.widget-view+json": {
       "model_id": "3d73897c41174b3ba2f7838fc1d34602",
       "version_major": 2,
       "version_minor": 0
      },
      "text/plain": [
       "Tab(children=(Output(layout=Layout(max_height='600px', max_width='940px', overflow='scroll')), Output(layout=L…"
      ]
     },
     "metadata": {},
     "output_type": "display_data"
    }
   ],
   "source": [
    "%%sparql\n",
    "\n",
    "PREFIX imdb: <https://www.imdb.com/>\n",
    "SELECT DISTINCT ?movie ?title\n",
    "WHERE {\n",
    "    ?movie a imdb:movie ;\n",
    "           a imdb:Drama ;\n",
    "           imdb:primaryTitle ?title .\n",
    "}\n",
    "LIMIT 5"
   ]
  },
  {
   "cell_type": "markdown",
   "id": "20d8bc5a",
   "metadata": {},
   "source": [
    "Let's now ask the knowledge graph to recommend us **5 movies** with rating of **9.0 or greater**."
   ]
  },
  {
   "cell_type": "code",
   "execution_count": null,
   "id": "8bf411a2",
   "metadata": {},
   "outputs": [
    {
     "data": {
      "application/vnd.jupyter.widget-view+json": {
       "model_id": "ce0582162d1d4b5c81e2ce9a49a8357f",
       "version_major": 2,
       "version_minor": 0
      },
      "text/plain": [
       "Tab(children=(Output(layout=Layout(max_height='600px', max_width='940px', overflow='scroll')), Output(layout=L…"
      ]
     },
     "metadata": {},
     "output_type": "display_data"
    }
   ],
   "source": [
    "%%sparql\n",
    "\n",
    "PREFIX : <https://www.imdb.com/>\n",
    "\n",
    "SELECT ?movie ?primaryTitle ?averageRating\n",
    "WHERE {\n",
    "    ?movie a :movie ;\n",
    "           :averageRating ?averageRating ;\n",
    "           :primaryTitle ?primaryTitle .\n",
    "    FILTER(?averageRating > 9.0)\n",
    "}\n",
    "LIMIT 5"
   ]
  },
  {
   "cell_type": "markdown",
   "id": "ea4b1255",
   "metadata": {},
   "source": [
    "## Complex Recommendation Query\n",
    "\n",
    "Let's now add some complexity and ask our knowledge graph to recommend us **5 movies** belonging to **drama** genre with rating of **9.0 or greater**. "
   ]
  },
  {
   "cell_type": "code",
   "execution_count": null,
   "id": "1b0984d1",
   "metadata": {},
   "outputs": [
    {
     "data": {
      "application/vnd.jupyter.widget-view+json": {
       "model_id": "1adc772da75944139fc5dd95a39d9572",
       "version_major": 2,
       "version_minor": 0
      },
      "text/plain": [
       "Tab(children=(Output(layout=Layout(max_height='600px', max_width='940px', overflow='scroll')), Output(layout=L…"
      ]
     },
     "metadata": {},
     "output_type": "display_data"
    }
   ],
   "source": [
    "%%sparql\n",
    "\n",
    "PREFIX imdb: <https://www.imdb.com/>\n",
    "\n",
    "SELECT DISTINCT ?movie ?title ?rating\n",
    "WHERE {\n",
    "    ?movie a imdb:movie;\n",
    "           a imdb:Drama;\n",
    "           imdb:averageRating ?rating;\n",
    "           imdb:primaryTitle ?title.\n",
    "    FILTER(?rating > 9.0)\n",
    "}\n",
    "ORDER BY DESC(?rating)\n",
    "LIMIT 5"
   ]
  },
  {
   "cell_type": "markdown",
   "id": "6ebfe2c3",
   "metadata": {},
   "source": [
    "## Ask Questions to Bedrock LLM via LangChain to query Knowledge Graph\n",
    "\n",
    "LangChain is an open-source framework designed to make building generative AI applications powered by large language models (LLMs) easier. It facilitates building a program that can answer your questions or complete tasks based on its understanding of natural language. LangChain simplifies the process of creating these applications by providing building blocks and tools for developers. \n",
    "\n",
    "Manually crafting intricate SPARQL queries for knowledge graph exploration can be a tedious task. Ideally, our LLM should automatically generate these queries when presented with natural language questions seeking contextually enriched responses from the IMDb database. This is where LangChain steps in, providing an abstraction layer that eliminates the need for manual SPARQL query construction. By integrating with our Amazon Bedrock-hosted LLM, LangChain enables the automatic generation of SPARQL queries tailored to our knowledge graph stored within the Amazon Neptune database."
   ]
  },
  {
   "cell_type": "code",
   "execution_count": null,
   "id": "36c2e30e",
   "metadata": {},
   "outputs": [
    {
     "name": "stdout",
     "output_type": "stream",
     "text": [
      "\u001b[31mERROR: pip's dependency resolver does not currently take into account all the packages that are installed. This behaviour is the source of the following dependency conflicts.\r\n",
      "aiobotocore 2.12.2 requires botocore<1.34.52,>=1.34.41, but you have botocore 1.34.85 which is incompatible.\r\n",
      "gremlinpython 3.6.2 requires aiohttp<=3.8.1,>=3.8.0, but you have aiohttp 3.9.5 which is incompatible.\u001b[0m\u001b[31m\r\n",
      "\u001b[0m"
     ]
    }
   ],
   "source": [
    "# Install dependencies\n",
    "!pip install --upgrade --quiet langchain langchain-community langchain-aws"
   ]
  },
  {
   "cell_type": "code",
   "execution_count": null,
   "id": "a84358f2",
   "metadata": {},
   "outputs": [],
   "source": [
    "import boto3\n",
    "from langchain.chains.graph_qa.neptune_sparql import NeptuneSparqlQAChain\n",
    "from langchain_aws import ChatBedrock\n",
    "from langchain_community.graphs import NeptuneRdfGraph\n",
    "\n",
    "host = \"db-neptune-1-instance-1.ci5xvnarpspo.us-east-1.neptune.amazonaws.com\"\n",
    "port = 8182  # change if different\n",
    "region = \"us-east-1\"  # change if different\n",
    "graph = NeptuneRdfGraph(host=host, port=port, use_iam_auth=True, region_name=\"us-east-1\")\n",
    "\n",
    "\n",
    "MODEL_ID = \"anthropic.claude-3-sonnet-20240229-v1:0\"\n",
    "bedrock_client = boto3.client(\"bedrock-runtime\")\n",
    "llm = ChatBedrock(model_id=MODEL_ID, client=bedrock_client)\n",
    "\n",
    "chain = NeptuneSparqlQAChain.from_llm(\n",
    "    llm=llm,\n",
    "    graph=graph,\n",
    "    verbose=True,\n",
    "    top_K=10,\n",
    "    return_intermediate_steps=True,\n",
    "    return_direct=False,\n",
    ")"
   ]
  },
  {
   "cell_type": "markdown",
   "id": "40aaa8de",
   "metadata": {},
   "source": [
    "## Invoke LangChain to ask questions to our knowledge graph \n",
    "\n",
    "Let's start off with a simple question."
   ]
  },
  {
   "cell_type": "code",
   "execution_count": null,
   "id": "7aa38aad",
   "metadata": {},
   "outputs": [
    {
     "name": "stdout",
     "output_type": "stream",
     "text": [
      "\n",
      "\n",
      "\u001b[1m> Entering new NeptuneSparqlQAChain chain...\u001b[0m\n",
      "Generated SPARQL:\n",
      "\u001b[32;1m\u001b[1;3m\n",
      "PREFIX : <https://www.imdb.com/>\n",
      "SELECT (COUNT(?movie) AS ?numMovies)\n",
      "WHERE {\n",
      "    ?movie a :movie .\n",
      "}\n",
      "\u001b[0m\n",
      "Full Context:\n",
      "\u001b[32;1m\u001b[1;3m{'head': {'vars': ['numMovies']}, 'results': {'bindings': [{'numMovies': {'datatype': 'http://www.w3.org/2001/XMLSchema#integer', 'type': 'literal', 'value': '678069'}}]}}\u001b[0m\n",
      "\n",
      "\u001b[1m> Finished chain.\u001b[0m\n"
     ]
    },
    {
     "data": {
      "text/plain": [
       "{'query': 'How many movies are in the graph?',\n",
       " 'result': 'Based on the information provided from the SPARQL query results, there are 678,069 movies in the graph.',\n",
       " 'intermediate_steps': [{'query': '\\nPREFIX : <https://www.imdb.com/>\\nSELECT (COUNT(?movie) AS ?numMovies)\\nWHERE {\\n    ?movie a :movie .\\n}\\n'},\n",
       "  {'context': {'head': {'vars': ['numMovies']},\n",
       "    'results': {'bindings': [{'numMovies': {'datatype': 'http://www.w3.org/2001/XMLSchema#integer',\n",
       "        'type': 'literal',\n",
       "        'value': '678069'}}]}}}]}"
      ]
     },
     "execution_count": 133,
     "metadata": {},
     "output_type": "execute_result"
    }
   ],
   "source": [
    "chain.invoke(\"\"\"How many movies are in the graph?\"\"\")"
   ]
  },
  {
   "cell_type": "markdown",
   "id": "164815cc",
   "metadata": {},
   "source": [
    "Now that our question has successfully been answered, let's ask a question that would require additional effort with graph traversal. "
   ]
  },
  {
   "cell_type": "code",
   "execution_count": null,
   "id": "bcc9e4c4",
   "metadata": {},
   "outputs": [
    {
     "name": "stdout",
     "output_type": "stream",
     "text": [
      "\n",
      "\n",
      "\u001b[1m> Entering new NeptuneSparqlQAChain chain...\u001b[0m\n",
      "Generated SPARQL:\n",
      "\u001b[32;1m\u001b[1;3m\n",
      "PREFIX imdb: <https://www.imdb.com/>\n",
      "\n",
      "SELECT ?title\n",
      "WHERE {\n",
      "    ?movie imdb:directedBy ?director .\n",
      "    ?director imdb:primaryName \"Ridley Scott\" .\n",
      "    ?movie imdb:primaryTitle ?title .\n",
      "}\n",
      "\u001b[0m\n",
      "Full Context:\n",
      "\u001b[32;1m\u001b[1;3m{'head': {'vars': ['title']}, 'results': {'bindings': [{'title': {'type': 'literal', 'value': 'The League of Uncharitable Ladies'}}, {'title': {'type': 'literal', 'value': 'The Resurrectionists'}}, {'title': {'type': 'literal', 'value': 'Death Begins at Seventy'}}, {'title': {'type': 'literal', 'value': 'American Gangster'}}, {'title': {'type': 'literal', 'value': 'Gladiator 2'}}, {'title': {'type': 'literal', 'value': \"It's What I Do\"}}, {'title': {'type': 'literal', 'value': 'White Squall'}}, {'title': {'type': 'literal', 'value': 'Exodus: Gods and Kings'}}, {'title': {'type': 'literal', 'value': 'Body of Lies'}}, {'title': {'type': 'literal', 'value': 'Behold'}}, {'title': {'type': 'literal', 'value': 'The Counselor'}}, {'title': {'type': 'literal', 'value': 'Chanel No. 5: The Swimming Pool'}}, {'title': {'type': 'literal', 'value': \"Chanel No. 5: L'invitation au rêve/Le jardin\"}}, {'title': {'type': 'literal', 'value': 'Black Hawk Down'}}, {'title': {'type': 'literal', 'value': 'Episode #1.1'}}, {'title': {'type': 'literal', 'value': 'Raised by Wolves'}}, {'title': {'type': 'literal', 'value': 'The Color of Lightning'}}, {'title': {'type': 'literal', 'value': 'Prometheus'}}, {'title': {'type': 'literal', 'value': 'Wraiths of the Broken Land'}}, {'title': {'type': 'literal', 'value': 'Raised by Wolves'}}, {'title': {'type': 'literal', 'value': 'Pentagram'}}, {'title': {'type': 'literal', 'value': 'Someone to Watch Over Me'}}, {'title': {'type': 'literal', 'value': 'Sinking Spring'}}, {'title': {'type': 'literal', 'value': 'Apple Mac: 1984'}}, {'title': {'type': 'literal', 'value': 'Roads to Freedom'}}, {'title': {'type': 'literal', 'value': 'Black Rain'}}, {'title': {'type': 'literal', 'value': 'The Vatican'}}, {'title': {'type': 'literal', 'value': 'Thelma & Louise'}}, {'title': {'type': 'literal', 'value': 'The King of Ads'}}, {'title': {'type': 'literal', 'value': 'Alien: Covenant'}}, {'title': {'type': 'literal', 'value': 'Alien: Deleted Scenes'}}, {'title': {'type': 'literal', 'value': 'The Prisoner'}}, {'title': {'type': 'literal', 'value': 'Hovis: Boy on the Bike'}}, {'title': {'type': 'literal', 'value': 'Alien: Outtakes'}}, {'title': {'type': 'literal', 'value': 'G.I. Jane'}}, {'title': {'type': 'literal', 'value': 'Robin Hood'}}, {'title': {'type': 'literal', 'value': 'All the Money in the World'}}, {'title': {'type': 'literal', 'value': 'Untitled Bee Gees Biopic'}}, {'title': {'type': 'literal', 'value': 'Kingdom of Heaven'}}, {'title': {'type': 'literal', 'value': '1492: Conquest of Paradise'}}, {'title': {'type': 'literal', 'value': 'The Informer'}}, {'title': {'type': 'literal', 'value': 'Half Hour Story'}}, {'title': {'type': 'literal', 'value': 'Boy and Bicycle'}}, {'title': {'type': 'literal', 'value': 'Matchstick Men'}}, {'title': {'type': 'literal', 'value': 'Hennessy X.O: The Seven Worlds'}}, {'title': {'type': 'literal', 'value': 'A Good Year'}}, {'title': {'type': 'literal', 'value': 'Queen & Country'}}, {'title': {'type': 'literal', 'value': 'The Merlin Saga'}}, {'title': {'type': 'literal', 'value': 'Mogul'}}, {'title': {'type': 'literal', 'value': 'The King of Ads, Part 2'}}, {'title': {'type': 'literal', 'value': 'Hannibal'}}, {'title': {'type': 'literal', 'value': 'No Further Questions'}}, {'title': {'type': 'literal', 'value': 'Your Secrets Are Safe with Us, Mr Lambert'}}, {'title': {'type': 'literal', 'value': 'Bomb'}}, {'title': {'type': 'literal', 'value': 'Robert'}}, {'title': {'type': 'literal', 'value': 'Untitled Ridley Scott/Simon Mann Project'}}, {'title': {'type': 'literal', 'value': 'Gladiator'}}, {'title': {'type': 'literal', 'value': 'All the Invisible Children'}}, {'title': {'type': 'literal', 'value': 'The Journey'}}, {'title': {'type': 'literal', 'value': 'Thirty-Minute Theatre'}}, {'title': {'type': 'literal', 'value': 'The Hard Word'}}, {'title': {'type': 'literal', 'value': 'Z Cars'}}, {'title': {'type': 'literal', 'value': 'The Martian'}}, {'title': {'type': 'literal', 'value': 'Legend'}}, {'title': {'type': 'literal', 'value': 'Alien: Covenant - Prologue: The Crossing'}}, {'title': {'type': 'literal', 'value': 'Chanel No. 5: Monuments'}}, {'title': {'type': 'literal', 'value': 'If He Hollers, Let Him Go'}}, {'title': {'type': 'literal', 'value': 'Blade Runner'}}, {'title': {'type': 'literal', 'value': 'House of Gucci'}}, {'title': {'type': 'literal', 'value': 'Error of Judgement'}}, {'title': {'type': 'literal', 'value': 'Adam Adamant Lives!'}}, {'title': {'type': 'literal', 'value': 'Chanel No. 5: La Star'}}, {'title': {'type': 'literal', 'value': 'Alien'}}, {'title': {'type': 'literal', 'value': 'Thunder Perfect Mind'}}, {'title': {'type': 'literal', 'value': 'The Last Duel'}}, {'title': {'type': 'literal', 'value': 'Napoleon'}}, {'title': {'type': 'literal', 'value': 'The Duellists'}}]}}\u001b[0m\n",
      "\n",
      "\u001b[1m> Finished chain.\u001b[0m\n"
     ]
    },
    {
     "data": {
      "text/plain": [
       "{'query': 'List the names of the movies directed by Ridley Scott',\n",
       " 'result': 'Here are the movie titles directed by Ridley Scott from the information provided:\\n\\n- The Counselor\\n- Exodus: Gods and Kings\\n- Prometheus\\n- Alien: Covenant\\n- Alien: Deleted Scenes \\n- The Martian\\n- Alien: Covenant - Prologue: The Crossing\\n- Blade Runner\\n- Alien\\n- The Last Duel\\n- The Duellists\\n- Gladiator\\n- Kingdom of Heaven\\n- Robin Hood\\n- Body of Lies\\n- Black Hawk Down\\n- Hannibal\\n- G.I. Jane\\n- Thelma & Louise\\n- Black Rain\\n- Someone to Watch Over Me\\n- Legend\\n- Alien: Outtakes',\n",
       " 'intermediate_steps': [{'query': '\\nPREFIX imdb: <https://www.imdb.com/>\\n\\nSELECT ?title\\nWHERE {\\n    ?movie imdb:directedBy ?director .\\n    ?director imdb:primaryName \"Ridley Scott\" .\\n    ?movie imdb:primaryTitle ?title .\\n}\\n'},\n",
       "  {'context': {'head': {'vars': ['title']},\n",
       "    'results': {'bindings': [{'title': {'type': 'literal',\n",
       "        'value': 'The League of Uncharitable Ladies'}},\n",
       "      {'title': {'type': 'literal', 'value': 'The Resurrectionists'}},\n",
       "      {'title': {'type': 'literal', 'value': 'Death Begins at Seventy'}},\n",
       "      {'title': {'type': 'literal', 'value': 'American Gangster'}},\n",
       "      {'title': {'type': 'literal', 'value': 'Gladiator 2'}},\n",
       "      {'title': {'type': 'literal', 'value': \"It's What I Do\"}},\n",
       "      {'title': {'type': 'literal', 'value': 'White Squall'}},\n",
       "      {'title': {'type': 'literal', 'value': 'Exodus: Gods and Kings'}},\n",
       "      {'title': {'type': 'literal', 'value': 'Body of Lies'}},\n",
       "      {'title': {'type': 'literal', 'value': 'Behold'}},\n",
       "      {'title': {'type': 'literal', 'value': 'The Counselor'}},\n",
       "      {'title': {'type': 'literal',\n",
       "        'value': 'Chanel No. 5: The Swimming Pool'}},\n",
       "      {'title': {'type': 'literal',\n",
       "        'value': \"Chanel No. 5: L'invitation au rêve/Le jardin\"}},\n",
       "      {'title': {'type': 'literal', 'value': 'Black Hawk Down'}},\n",
       "      {'title': {'type': 'literal', 'value': 'Episode #1.1'}},\n",
       "      {'title': {'type': 'literal', 'value': 'Raised by Wolves'}},\n",
       "      {'title': {'type': 'literal', 'value': 'The Color of Lightning'}},\n",
       "      {'title': {'type': 'literal', 'value': 'Prometheus'}},\n",
       "      {'title': {'type': 'literal', 'value': 'Wraiths of the Broken Land'}},\n",
       "      {'title': {'type': 'literal', 'value': 'Raised by Wolves'}},\n",
       "      {'title': {'type': 'literal', 'value': 'Pentagram'}},\n",
       "      {'title': {'type': 'literal', 'value': 'Someone to Watch Over Me'}},\n",
       "      {'title': {'type': 'literal', 'value': 'Sinking Spring'}},\n",
       "      {'title': {'type': 'literal', 'value': 'Apple Mac: 1984'}},\n",
       "      {'title': {'type': 'literal', 'value': 'Roads to Freedom'}},\n",
       "      {'title': {'type': 'literal', 'value': 'Black Rain'}},\n",
       "      {'title': {'type': 'literal', 'value': 'The Vatican'}},\n",
       "      {'title': {'type': 'literal', 'value': 'Thelma & Louise'}},\n",
       "      {'title': {'type': 'literal', 'value': 'The King of Ads'}},\n",
       "      {'title': {'type': 'literal', 'value': 'Alien: Covenant'}},\n",
       "      {'title': {'type': 'literal', 'value': 'Alien: Deleted Scenes'}},\n",
       "      {'title': {'type': 'literal', 'value': 'The Prisoner'}},\n",
       "      {'title': {'type': 'literal', 'value': 'Hovis: Boy on the Bike'}},\n",
       "      {'title': {'type': 'literal', 'value': 'Alien: Outtakes'}},\n",
       "      {'title': {'type': 'literal', 'value': 'G.I. Jane'}},\n",
       "      {'title': {'type': 'literal', 'value': 'Robin Hood'}},\n",
       "      {'title': {'type': 'literal', 'value': 'All the Money in the World'}},\n",
       "      {'title': {'type': 'literal', 'value': 'Untitled Bee Gees Biopic'}},\n",
       "      {'title': {'type': 'literal', 'value': 'Kingdom of Heaven'}},\n",
       "      {'title': {'type': 'literal', 'value': '1492: Conquest of Paradise'}},\n",
       "      {'title': {'type': 'literal', 'value': 'The Informer'}},\n",
       "      {'title': {'type': 'literal', 'value': 'Half Hour Story'}},\n",
       "      {'title': {'type': 'literal', 'value': 'Boy and Bicycle'}},\n",
       "      {'title': {'type': 'literal', 'value': 'Matchstick Men'}},\n",
       "      {'title': {'type': 'literal',\n",
       "        'value': 'Hennessy X.O: The Seven Worlds'}},\n",
       "      {'title': {'type': 'literal', 'value': 'A Good Year'}},\n",
       "      {'title': {'type': 'literal', 'value': 'Queen & Country'}},\n",
       "      {'title': {'type': 'literal', 'value': 'The Merlin Saga'}},\n",
       "      {'title': {'type': 'literal', 'value': 'Mogul'}},\n",
       "      {'title': {'type': 'literal', 'value': 'The King of Ads, Part 2'}},\n",
       "      {'title': {'type': 'literal', 'value': 'Hannibal'}},\n",
       "      {'title': {'type': 'literal', 'value': 'No Further Questions'}},\n",
       "      {'title': {'type': 'literal',\n",
       "        'value': 'Your Secrets Are Safe with Us, Mr Lambert'}},\n",
       "      {'title': {'type': 'literal', 'value': 'Bomb'}},\n",
       "      {'title': {'type': 'literal', 'value': 'Robert'}},\n",
       "      {'title': {'type': 'literal',\n",
       "        'value': 'Untitled Ridley Scott/Simon Mann Project'}},\n",
       "      {'title': {'type': 'literal', 'value': 'Gladiator'}},\n",
       "      {'title': {'type': 'literal', 'value': 'All the Invisible Children'}},\n",
       "      {'title': {'type': 'literal', 'value': 'The Journey'}},\n",
       "      {'title': {'type': 'literal', 'value': 'Thirty-Minute Theatre'}},\n",
       "      {'title': {'type': 'literal', 'value': 'The Hard Word'}},\n",
       "      {'title': {'type': 'literal', 'value': 'Z Cars'}},\n",
       "      {'title': {'type': 'literal', 'value': 'The Martian'}},\n",
       "      {'title': {'type': 'literal', 'value': 'Legend'}},\n",
       "      {'title': {'type': 'literal',\n",
       "        'value': 'Alien: Covenant - Prologue: The Crossing'}},\n",
       "      {'title': {'type': 'literal', 'value': 'Chanel No. 5: Monuments'}},\n",
       "      {'title': {'type': 'literal', 'value': 'If He Hollers, Let Him Go'}},\n",
       "      {'title': {'type': 'literal', 'value': 'Blade Runner'}},\n",
       "      {'title': {'type': 'literal', 'value': 'House of Gucci'}},\n",
       "      {'title': {'type': 'literal', 'value': 'Error of Judgement'}},\n",
       "      {'title': {'type': 'literal', 'value': 'Adam Adamant Lives!'}},\n",
       "      {'title': {'type': 'literal', 'value': 'Chanel No. 5: La Star'}},\n",
       "      {'title': {'type': 'literal', 'value': 'Alien'}},\n",
       "      {'title': {'type': 'literal', 'value': 'Thunder Perfect Mind'}},\n",
       "      {'title': {'type': 'literal', 'value': 'The Last Duel'}},\n",
       "      {'title': {'type': 'literal', 'value': 'Napoleon'}},\n",
       "      {'title': {'type': 'literal', 'value': 'The Duellists'}}]}}}]}"
      ]
     },
     "execution_count": 134,
     "metadata": {},
     "output_type": "execute_result"
    }
   ],
   "source": [
    "chain.invoke(\"\"\"List the names of the movies directed by Ridley Scott\"\"\")"
   ]
  },
  {
   "cell_type": "markdown",
   "id": "be76047f",
   "metadata": {},
   "source": [
    "Now that it answered the question effortlessley, let's add some complexity in our next question. "
   ]
  },
  {
   "cell_type": "code",
   "execution_count": null,
   "id": "9dd286ad",
   "metadata": {},
   "outputs": [
    {
     "name": "stdout",
     "output_type": "stream",
     "text": [
      "\n",
      "\n",
      "\u001b[1m> Entering new NeptuneSparqlQAChain chain...\u001b[0m\n",
      "Generated SPARQL:\n",
      "\u001b[32;1m\u001b[1;3m\n",
      "PREFIX imdb: <https://www.imdb.com/>\n",
      "\n",
      "SELECT DISTINCT ?movieTitle\n",
      "WHERE {\n",
      "    ?movie imdb:directedBy ?director .\n",
      "    ?director imdb:primaryName \"Steven Spielberg\" .\n",
      "    ?movie imdb:cast-actor ?actor .\n",
      "    ?actor imdb:primaryName \"Tom Hanks\" .\n",
      "    ?movie imdb:primaryTitle ?movieTitle .\n",
      "}\n",
      "\u001b[0m\n",
      "Full Context:\n",
      "\u001b[32;1m\u001b[1;3m{'head': {'vars': ['movieTitle']}, 'results': {'bindings': [{'movieTitle': {'type': 'literal', 'value': 'The Post'}}, {'movieTitle': {'type': 'literal', 'value': 'Bridge of Spies'}}, {'movieTitle': {'type': 'literal', 'value': 'Catch Me If You Can'}}, {'movieTitle': {'type': 'literal', 'value': 'The Terminal'}}, {'movieTitle': {'type': 'literal', 'value': 'Saving Private Ryan'}}]}}\u001b[0m\n",
      "\n",
      "\u001b[1m> Finished chain.\u001b[0m\n"
     ]
    },
    {
     "data": {
      "text/plain": [
       "{'query': 'What are the names of the movies directed by Steven Spielberg where Tom Hanks is an actor?',\n",
       " 'result': 'Here are the movies directed by Steven Spielberg where Tom Hanks is an actor, based on the information provided:\\n\\n- The Post\\n- Bridge of Spies \\n- Catch Me If You Can\\n- The Terminal\\n- Saving Private Ryan',\n",
       " 'intermediate_steps': [{'query': '\\nPREFIX imdb: <https://www.imdb.com/>\\n\\nSELECT DISTINCT ?movieTitle\\nWHERE {\\n    ?movie imdb:directedBy ?director .\\n    ?director imdb:primaryName \"Steven Spielberg\" .\\n    ?movie imdb:cast-actor ?actor .\\n    ?actor imdb:primaryName \"Tom Hanks\" .\\n    ?movie imdb:primaryTitle ?movieTitle .\\n}\\n'},\n",
       "  {'context': {'head': {'vars': ['movieTitle']},\n",
       "    'results': {'bindings': [{'movieTitle': {'type': 'literal',\n",
       "        'value': 'The Post'}},\n",
       "      {'movieTitle': {'type': 'literal', 'value': 'Bridge of Spies'}},\n",
       "      {'movieTitle': {'type': 'literal', 'value': 'Catch Me If You Can'}},\n",
       "      {'movieTitle': {'type': 'literal', 'value': 'The Terminal'}},\n",
       "      {'movieTitle': {'type': 'literal', 'value': 'Saving Private Ryan'}}]}}}]}"
      ]
     },
     "execution_count": 136,
     "metadata": {},
     "output_type": "execute_result"
    }
   ],
   "source": [
    "chain.invoke(\"\"\"What are the names of the movies directed by Steven Spielberg where Tom Hanks is an actor?\"\"\")"
   ]
  },
  {
   "cell_type": "markdown",
   "id": "0cf4a4cc",
   "metadata": {},
   "source": [
    "It automatically wrote SPARQL query just like the one we cutom wrote in one of our previous examples along with answering our question accurately. Now let's attempt to use it as a recommender system. "
   ]
  },
  {
   "cell_type": "code",
   "execution_count": null,
   "id": "a244c669",
   "metadata": {},
   "outputs": [
    {
     "name": "stdout",
     "output_type": "stream",
     "text": [
      "\n",
      "\n",
      "\u001b[1m> Entering new NeptuneSparqlQAChain chain...\u001b[0m\n",
      "Generated SPARQL:\n",
      "\u001b[32;1m\u001b[1;3m\n",
      "PREFIX : <https://www.imdb.com/>\n",
      "\n",
      "SELECT ?movie ?title ?rating \n",
      "WHERE {\n",
      "    ?movie a :movie ;\n",
      "           a :Drama ;\n",
      "           :averageRating ?rating ;\n",
      "           :primaryTitle ?title .\n",
      "    FILTER (?rating > 9.0)\n",
      "}\n",
      "LIMIT 5\n",
      "\u001b[0m\n",
      "Full Context:\n",
      "\u001b[32;1m\u001b[1;3m{'head': {'vars': ['movie', 'title', 'rating']}, 'results': {'bindings': [{'movie': {'type': 'uri', 'value': 'https://www.imdb.com/tt0222023'}, 'rating': {'datatype': 'http://www.w3.org/2001/XMLSchema#float', 'type': 'literal', 'value': '9.1'}, 'title': {'type': 'literal', 'value': 'Long Sleepless Nights'}}, {'movie': {'type': 'uri', 'value': 'https://www.imdb.com/tt0053834'}, 'rating': {'datatype': 'http://www.w3.org/2001/XMLSchema#float', 'type': 'literal', 'value': '9.1'}, 'title': {'type': 'literal', 'value': 'Frau Irene Besser'}}, {'movie': {'type': 'uri', 'value': 'https://www.imdb.com/tt0240805'}, 'rating': {'datatype': 'http://www.w3.org/2001/XMLSchema#float', 'type': 'literal', 'value': '9.1'}, 'title': {'type': 'literal', 'value': 'Pierre qui brûle'}}, {'movie': {'type': 'uri', 'value': 'https://www.imdb.com/tt0429664'}, 'rating': {'datatype': 'http://www.w3.org/2001/XMLSchema#float', 'type': 'literal', 'value': '9.1'}, 'title': {'type': 'literal', 'value': 'Beyond the Horizon'}}, {'movie': {'type': 'uri', 'value': 'https://www.imdb.com/tt0232037'}, 'rating': {'datatype': 'http://www.w3.org/2001/XMLSchema#float', 'type': 'literal', 'value': '9.1'}, 'title': {'type': 'literal', 'value': 'Malammana Pavada'}}]}}\u001b[0m\n",
      "\n",
      "\u001b[1m> Finished chain.\u001b[0m\n"
     ]
    },
    {
     "data": {
      "text/plain": [
       "{'query': 'Recommend me 5 dramas which are strictly movies that have a rating greater than 9.0',\n",
       " 'result': \"Here are 5 highly rated dramas with a rating above 9.0:\\n\\n1. Long Sleepless Nights (1992) - Rating: 9.1\\n2. Frau Irene Besser (1957) - Rating: 9.1  \\n3. Pierre qui brûle (1987) - Rating: 9.1\\n4. Beyond the Horizon (2005) - Rating: 9.1\\n5. Malammana Pavada (1994) - Rating: 9.1\\n\\nAll of these are critically acclaimed movies that achieved outstanding ratings from viewers and critics alike. I'd recommend checking them out if you're in the mood for an excellent drama film.\",\n",
       " 'intermediate_steps': [{'query': '\\nPREFIX : <https://www.imdb.com/>\\n\\nSELECT ?movie ?title ?rating \\nWHERE {\\n    ?movie a :movie ;\\n           a :Drama ;\\n           :averageRating ?rating ;\\n           :primaryTitle ?title .\\n    FILTER (?rating > 9.0)\\n}\\nLIMIT 5\\n'},\n",
       "  {'context': {'head': {'vars': ['movie', 'title', 'rating']},\n",
       "    'results': {'bindings': [{'movie': {'type': 'uri',\n",
       "        'value': 'https://www.imdb.com/tt0222023'},\n",
       "       'rating': {'datatype': 'http://www.w3.org/2001/XMLSchema#float',\n",
       "        'type': 'literal',\n",
       "        'value': '9.1'},\n",
       "       'title': {'type': 'literal', 'value': 'Long Sleepless Nights'}},\n",
       "      {'movie': {'type': 'uri', 'value': 'https://www.imdb.com/tt0053834'},\n",
       "       'rating': {'datatype': 'http://www.w3.org/2001/XMLSchema#float',\n",
       "        'type': 'literal',\n",
       "        'value': '9.1'},\n",
       "       'title': {'type': 'literal', 'value': 'Frau Irene Besser'}},\n",
       "      {'movie': {'type': 'uri', 'value': 'https://www.imdb.com/tt0240805'},\n",
       "       'rating': {'datatype': 'http://www.w3.org/2001/XMLSchema#float',\n",
       "        'type': 'literal',\n",
       "        'value': '9.1'},\n",
       "       'title': {'type': 'literal', 'value': 'Pierre qui brûle'}},\n",
       "      {'movie': {'type': 'uri', 'value': 'https://www.imdb.com/tt0429664'},\n",
       "       'rating': {'datatype': 'http://www.w3.org/2001/XMLSchema#float',\n",
       "        'type': 'literal',\n",
       "        'value': '9.1'},\n",
       "       'title': {'type': 'literal', 'value': 'Beyond the Horizon'}},\n",
       "      {'movie': {'type': 'uri', 'value': 'https://www.imdb.com/tt0232037'},\n",
       "       'rating': {'datatype': 'http://www.w3.org/2001/XMLSchema#float',\n",
       "        'type': 'literal',\n",
       "        'value': '9.1'},\n",
       "       'title': {'type': 'literal', 'value': 'Malammana Pavada'}}]}}}]}"
      ]
     },
     "execution_count": 138,
     "metadata": {},
     "output_type": "execute_result"
    }
   ],
   "source": [
    "chain.invoke(\"\"\"Recommend me 5 dramas which are strictly movies that have a rating greater than 9.0\"\"\")"
   ]
  },
  {
   "cell_type": "markdown",
   "id": "89672479",
   "metadata": {},
   "source": [
    "It gave us the desired movie recommendations. Feel free to play around with this if you want to try out any more questions."
   ]
  },
  {
   "cell_type": "code",
   "execution_count": null,
   "id": "2deeb935",
   "metadata": {},
   "outputs": [],
   "source": []
  }
 ],
 "metadata": {
  "kernelspec": {
   "display_name": "Python 3",
   "language": "python",
   "name": "python3"
  },
  "language_info": {
   "codemirror_mode": {
    "name": "ipython",
    "version": 3
   },
   "file_extension": ".py",
   "mimetype": "text/x-python",
   "name": "python",
   "nbconvert_exporter": "python",
   "pygments_lexer": "ipython3",
   "version": "3.10.8"
  }
 },
 "nbformat": 4,
 "nbformat_minor": 5
}
